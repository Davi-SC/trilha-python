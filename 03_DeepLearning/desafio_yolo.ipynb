{
 "cells": [
  {
   "cell_type": "markdown",
   "id": "0b0d6ce6",
   "metadata": {},
   "source": [
    "### Projeto de treinamento da rede YOLOv5\n",
    "\n",
    "Utilizei a rede neural YOLOv5 para detectar maças em imagens disponiveis no dataset : https://universe.roboflow.com/peterjbloch-gmail-com/apple-vision/dataset/9\n",
    "Pelo tamanho do dataset e da rede YOLO não fiz o commit dos mesmos.\n",
    "\n",
    " - depois de baixar o dataset e a rede yolov5 localmente bastou rodar o comando: python train.py --img 640 --batch 16 --epochs 100 --data ./data/data.yaml --weights yolov5s.pt\n",
    " - A rede foi treinada e teve os resultados descritos abaixo\n"
   ]
  },
  {
   "cell_type": "markdown",
   "id": "ee1b29f5",
   "metadata": {},
   "source": []
  },
  {
   "cell_type": "markdown",
   "id": "7595e852",
   "metadata": {},
   "source": []
  }
 ],
 "metadata": {
  "kernelspec": {
   "display_name": "yolo_env",
   "language": "python",
   "name": "python3"
  },
  "language_info": {
   "name": "python",
   "version": "3.12.11"
  }
 },
 "nbformat": 4,
 "nbformat_minor": 5
}

{
 "cells": [
  {
   "cell_type": "markdown",
   "id": "edfce996",
   "metadata": {},
   "source": [
    "Entendo o funcionamento das métricas de avaliação em aprendizado de máquina"
   ]
  },
  {
   "cell_type": "code",
   "execution_count": 1,
   "id": "c583fed7",
   "metadata": {},
   "outputs": [],
   "source": [
    "VP = 10 \n",
    "VN = 50 \n",
    "FP = 5   \n",
    "FN = 2   \n",
    "N = VP + VN + FP + FN "
   ]
  },
  {
   "cell_type": "code",
   "execution_count": 2,
   "id": "d317fd68",
   "metadata": {},
   "outputs": [],
   "source": [
    "def calcular_sensibilidade(vp, fn):\n",
    "    sensibilidade = 0\n",
    "    if (vp + fn) > 0:\n",
    "        sensibilidade = vp / (vp + fn)\n",
    "    return sensibilidade\n",
    "\n",
    "def calcular_especificidade(vn, fp):\n",
    "    especificidade = 0\n",
    "    if (fp + vn) > 0:\n",
    "        especificidade = vn / (fp + vn)\n",
    "    return especificidade\n",
    "\n",
    "def calcular_acuracia(vp, vn, n):\n",
    "    acuracia = 0\n",
    "    if n > 0:\n",
    "        acuracia = (vp + vn) / n\n",
    "    return acuracia\n",
    "\n",
    "def calcular_precisao(vp, fp):\n",
    "    precisao = 0\n",
    "    if (vp + fp) > 0:\n",
    "        precisao = vp / (vp + fp)\n",
    "    return precisao\n",
    "\n",
    "def calcular_f_score(precisao, sensibilidade):\n",
    "    f_score = 0\n",
    "    if (precisao + sensibilidade) > 0:\n",
    "        f_score = 2 * (precisao * sensibilidade) / (precisao + sensibilidade)\n",
    "    return f_score"
   ]
  },
  {
   "cell_type": "code",
   "execution_count": 3,
   "id": "05691a96",
   "metadata": {},
   "outputs": [
    {
     "name": "stdout",
     "output_type": "stream",
     "text": [
      "Matriz de Confusão:\n",
      "  VP (Verdadeiros Positivos): 10\n",
      "  VN (Verdadeiros Negativos): 50\n",
      "  FP (Falsos Positivos): 5\n",
      "  FN (Falsos Negativos): 2\n",
      "------------------------------\n",
      "Métricas de Avaliação:\n",
      "  Sensibilidade: 0.8333\n",
      "  Especificidade: 0.9091\n",
      "  Acurácia: 0.8955\n",
      "  Precisão: 0.6667\n",
      "  F-score: 0.7407\n"
     ]
    }
   ],
   "source": [
    "sensibilidade = calcular_sensibilidade(VP, FN)\n",
    "especificidade = calcular_especificidade(VN, FP)\n",
    "acuracia = calcular_acuracia(VP, VN, N)\n",
    "precisao = calcular_precisao(VP, FP)\n",
    "\n",
    "\n",
    "f_score = calcular_f_score(precisao, sensibilidade)\n",
    "\n",
    "print(f\"Matriz de Confusão:\")\n",
    "print(f\"  VP (Verdadeiros Positivos): {VP}\")\n",
    "print(f\"  VN (Verdadeiros Negativos): {VN}\")\n",
    "print(f\"  FP (Falsos Positivos): {FP}\")\n",
    "print(f\"  FN (Falsos Negativos): {FN}\")\n",
    "print(\"-\" * 30)\n",
    "print(f\"Métricas de Avaliação:\")\n",
    "print(f\"  Sensibilidade: {sensibilidade:.4f}\")\n",
    "print(f\"  Especificidade: {especificidade:.4f}\")\n",
    "print(f\"  Acurácia: {acuracia:.4f}\")\n",
    "print(f\"  Precisão: {precisao:.4f}\")\n",
    "print(f\"  F-score: {f_score:.4f}\")"
   ]
  }
 ],
 "metadata": {
  "kernelspec": {
   "display_name": "Python 3",
   "language": "python",
   "name": "python3"
  },
  "language_info": {
   "codemirror_mode": {
    "name": "ipython",
    "version": 3
   },
   "file_extension": ".py",
   "mimetype": "text/x-python",
   "name": "python",
   "nbconvert_exporter": "python",
   "pygments_lexer": "ipython3",
   "version": "3.12.10"
  }
 },
 "nbformat": 4,
 "nbformat_minor": 5
}
